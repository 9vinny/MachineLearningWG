{
 "cells": [
  {
   "cell_type": "markdown",
   "metadata": {},
   "source": [
    "# Ridge and LASSO Regression"
   ]
  },
  {
   "cell_type": "markdown",
   "metadata": {},
   "source": [
    "### Dataset and prep"
   ]
  },
  {
   "cell_type": "code",
   "execution_count": null,
   "metadata": {
    "collapsed": false
   },
   "outputs": [],
   "source": [
    "from sklearn.datasets import load_boston\n",
    "\n",
    "boston = load_boston()"
   ]
  },
  {
   "cell_type": "code",
   "execution_count": null,
   "metadata": {
    "collapsed": false
   },
   "outputs": [],
   "source": [
    "print(boston.feature_names)\n",
    "print()\n",
    "print(type(boston.feature_names))\n",
    "print()\n",
    "print(len(boston.feature_names))"
   ]
  },
  {
   "cell_type": "code",
   "execution_count": null,
   "metadata": {
    "collapsed": false,
    "scrolled": true
   },
   "outputs": [],
   "source": [
    "print(boston.data)\n",
    "print()\n",
    "print(type(boston.data))\n",
    "print()\n",
    "print(len(boston.data))"
   ]
  },
  {
   "cell_type": "code",
   "execution_count": null,
   "metadata": {
    "collapsed": false
   },
   "outputs": [],
   "source": [
    "print(boston.target)\n",
    "print()\n",
    "print(type(boston.target))\n",
    "print()\n",
    "print(len(boston.target))"
   ]
  },
  {
   "cell_type": "markdown",
   "metadata": {},
   "source": [
    "### Train/Test Split"
   ]
  },
  {
   "cell_type": "code",
   "execution_count": null,
   "metadata": {
    "collapsed": false
   },
   "outputs": [],
   "source": [
    "from sklearn.cross_validation import train_test_split\n",
    "\n",
    "X_train, X_test, y_train, y_test = train_test_split(boston.data, boston.target,\n",
    "                                                    train_size=0.75, test_size=0.25)"
   ]
  },
  {
   "cell_type": "markdown",
   "metadata": {},
   "source": [
    "### Models"
   ]
  },
  {
   "cell_type": "code",
   "execution_count": null,
   "metadata": {
    "collapsed": false
   },
   "outputs": [],
   "source": [
    "from sklearn.linear_model import Ridge, Lasso\n",
    "import numpy as np\n",
    "\n",
    "np.random.seed(40)\n",
    "\n",
    "ridge_reg = Ridge(alpha=.1,  # multiples L1, a 0 is linreg\n",
    "                  max_iter=1000,\n",
    "                  tol=0.0001,  # when to stop\n",
    "                  random_state=40,\n",
    "                  solver='auto')  # or ‘svd’, ‘cholesky’, ‘lsqr’, ‘sparse_cg’, ‘sag’\n",
    "\n",
    "lasso_reg = Lasso(alpha=.1,  # multiples L1, a 0 is linreg\n",
    "                  max_iter=1000,\n",
    "                  tol=0.0001,  # when to stop\n",
    "                  random_state=40,\n",
    "                  selection='cyclic')  # how to update coefficients, also 'random'\n",
    "\n",
    "ridge_model = ridge_reg.fit(X_train, y_train)\n",
    "lasso_model = lasso_reg.fit(X_train, y_train)\n",
    "\n",
    "print(\"Ridge R2:\\n\")\n",
    "print(ridge_model.score(X_test, y_test))  # R2\n",
    "print()\n",
    "print(\"Lasso R2:\\n\")\n",
    "print(lasso_model.score(X_test, y_test))  # R2"
   ]
  },
  {
   "cell_type": "markdown",
   "metadata": {},
   "source": [
    "### CV Models"
   ]
  },
  {
   "cell_type": "code",
   "execution_count": null,
   "metadata": {
    "collapsed": false
   },
   "outputs": [],
   "source": [
    "from sklearn.model_selection import cross_val_score\n",
    "ridge_scores = cross_val_score(ridge_reg, boston.data, boston.target, cv=5)\n",
    "lasso_scores = cross_val_score(lasso_reg, boston.data, boston.target, cv=5)\n",
    "print(\"Ridge CV R2:\\n\")\n",
    "print(ridge_scores, np.mean(ridge_scores))  # R2\n",
    "print()\n",
    "print(\"Lasso CV R2:\\n\")\n",
    "print(lasso_scores, np.mean(lasso_scores))  # R2"
   ]
  }
 ],
 "metadata": {
  "kernelspec": {
   "display_name": "Python 3",
   "language": "python",
   "name": "python3"
  },
  "language_info": {
   "codemirror_mode": {
    "name": "ipython",
    "version": 3
   },
   "file_extension": ".py",
   "mimetype": "text/x-python",
   "name": "python",
   "nbconvert_exporter": "python",
   "pygments_lexer": "ipython3",
   "version": "3.4.3"
  }
 },
 "nbformat": 4,
 "nbformat_minor": 0
}
