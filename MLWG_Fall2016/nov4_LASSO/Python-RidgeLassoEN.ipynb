{
 "cells": [
  {
   "cell_type": "markdown",
   "metadata": {},
   "source": [
    "# Ridge, LASSO, and Elastic Net Regression"
   ]
  },
  {
   "cell_type": "markdown",
   "metadata": {},
   "source": [
    "### Dataset and prep"
   ]
  },
  {
   "cell_type": "code",
   "execution_count": null,
   "metadata": {
    "collapsed": false
   },
   "outputs": [],
   "source": [
    "from sklearn.datasets import load_boston\n",
    "\n",
    "boston = load_boston()"
   ]
  },
  {
   "cell_type": "code",
   "execution_count": null,
   "metadata": {
    "collapsed": false
   },
   "outputs": [],
   "source": [
    "print(boston.feature_names)\n",
    "print()\n",
    "print(type(boston.feature_names))\n",
    "print()\n",
    "print(len(boston.feature_names))"
   ]
  },
  {
   "cell_type": "code",
   "execution_count": null,
   "metadata": {
    "collapsed": false,
    "scrolled": true
   },
   "outputs": [],
   "source": [
    "print(boston.data)\n",
    "print()\n",
    "print(type(boston.data))\n",
    "print()\n",
    "print(len(boston.data))"
   ]
  },
  {
   "cell_type": "code",
   "execution_count": null,
   "metadata": {
    "collapsed": false
   },
   "outputs": [],
   "source": [
    "print(boston.target)\n",
    "print()\n",
    "print(type(boston.target))\n",
    "print()\n",
    "print(len(boston.target))"
   ]
  },
  {
   "cell_type": "markdown",
   "metadata": {},
   "source": [
    "### Train/Test Split"
   ]
  },
  {
   "cell_type": "code",
   "execution_count": null,
   "metadata": {
    "collapsed": false
   },
   "outputs": [],
   "source": [
    "from sklearn.cross_validation import train_test_split\n",
    "\n",
    "X_train, X_test, y_train, y_test = train_test_split(boston.data, boston.target,\n",
    "                                                    train_size=0.8, test_size=0.2)"
   ]
  },
  {
   "cell_type": "markdown",
   "metadata": {},
   "source": [
    "### Models"
   ]
  },
  {
   "cell_type": "code",
   "execution_count": null,
   "metadata": {
    "collapsed": false
   },
   "outputs": [],
   "source": [
    "from sklearn.linear_model import Ridge, Lasso, ElasticNet, LinearRegression\n",
    "import numpy as np\n",
    "\n",
    "np.random.seed(50)\n",
    "\n",
    "lin_reg = LinearRegression()\n",
    "\n",
    "ridge_reg = Ridge(alpha=.1,  # regularization (L2) strength\n",
    "                  max_iter=1000,\n",
    "                  tol=0.0001,  # when to stop\n",
    "                  random_state=40,\n",
    "                  solver='auto')  # or ‘svd’, ‘cholesky’, ‘lsqr’, ‘sparse_cg’, ‘sag’\n",
    "\n",
    "lasso_reg = Lasso(alpha=.1,  # multiples L1 penalty, a 0 is linreg\n",
    "                  max_iter=1000,\n",
    "                  tol=0.0001,  # when to stop\n",
    "                  random_state=40,\n",
    "                  selection='cyclic')  # how to update coefficients, also 'random'\n",
    "\n",
    "en_reg = ElasticNet(alpha=.1,  # multiplies penalty, 0 is linreg\n",
    "                    l1_ratio=0.5,  # ratio of L1 in penalty, 0 would be pure L2 penalty, mix of ridge and lasso\n",
    "                    max_iter=1000,\n",
    "                    tol=0.0001,  # when to stop\n",
    "                    random_state=40,\n",
    "                    selection='cyclic')  # how to update coefficients, also 'random'\n",
    "\n",
    "lin_model = lin_reg.fit(X_train, y_train)\n",
    "ridge_model = ridge_reg.fit(X_train, y_train)\n",
    "lasso_model = lasso_reg.fit(X_train, y_train)\n",
    "en_model = lasso_reg.fit(X_train, y_train)\n",
    "\n",
    "\n",
    "print(\"Linear R2:\\n\")\n",
    "print(lin_model.score(X_test, y_test))  # R2\n",
    "print()\n",
    "print(\"Ridge R2:\\n\")\n",
    "print(ridge_model.score(X_test, y_test))  # R2\n",
    "print()\n",
    "print(\"Lasso R2:\\n\")\n",
    "print(lasso_model.score(X_test, y_test))  # R2\n",
    "print()\n",
    "print(\"Elastic Net R2:\\n\")\n",
    "print(en_model.score(X_test, y_test))  # R2"
   ]
  },
  {
   "cell_type": "markdown",
   "metadata": {},
   "source": [
    "### Compare coefficients"
   ]
  },
  {
   "cell_type": "code",
   "execution_count": null,
   "metadata": {
    "collapsed": false
   },
   "outputs": [],
   "source": [
    "for model in (lin_model, ridge_model, lasso_model, en_model):\n",
    "    print(model)\n",
    "    print()\n",
    "    print (model.coef_)\n",
    "    print()"
   ]
  },
  {
   "cell_type": "code",
   "execution_count": null,
   "metadata": {
    "collapsed": false
   },
   "outputs": [],
   "source": [
    "% matplotlib inline\n",
    "import matplotlib.pyplot as plt\n",
    "from sklearn.metrics import r2_score\n",
    "\n",
    "y_pred_lin = lin_reg.fit(X_train, y_train).predict(X_test)\n",
    "y_pred_en = en_reg.fit(X_train, y_train).predict(X_test)\n",
    "y_pred_lasso = lasso_reg.fit(X_train, y_train).predict(X_test)\n",
    "y_pred_ridge = ridge_reg.fit(X_train, y_train).predict(X_test)\n",
    "\n",
    "plt.plot(ridge_model.coef_, color='green', linewidth=2, label='Linear Reg. coefficients')\n",
    "plt.plot(ridge_model.coef_, color='blue', linewidth=2, label='Ridge coefficients')\n",
    "plt.plot(lasso_model.coef_, color='gold', linewidth=2, label='Lasso coefficients')\n",
    "plt.plot(en_model.coef_, color='red', linewidth=2, label='Elastic Net coefficients')\n",
    "\n",
    "# plt.plot(coef, '--', color='navy', label='original coefficients')\n",
    "plt.legend(loc='best')\n",
    "plt.title(\"Linear Reg. R^2: %f, Ridge Net R^2: %f, Lasso R^2: %f, Elastic Net R^2: %f\"\n",
    "          % (r2_score(y_test, y_pred_lin), r2_score(y_test, y_pred_ridge), r2_score(y_test, y_pred_lasso), r2_score(y_test, y_pred_en)))\n",
    "plt.show()"
   ]
  },
  {
   "cell_type": "markdown",
   "metadata": {},
   "source": [
    "### CV Models"
   ]
  },
  {
   "cell_type": "code",
   "execution_count": null,
   "metadata": {
    "collapsed": false
   },
   "outputs": [],
   "source": [
    "from sklearn.model_selection import cross_val_score\n",
    "lin_scores = cross_val_score(lin_reg, boston.data, boston.target, cv=5)\n",
    "ridge_scores = cross_val_score(ridge_reg, boston.data, boston.target, cv=5)\n",
    "lasso_scores = cross_val_score(lasso_reg, boston.data, boston.target, cv=5)\n",
    "en_scores = cross_val_score(en_reg, boston.data, boston.target, cv=5)\n",
    "\n",
    "print(\"Linear Reg. CV R2:\\n\")\n",
    "print(lin_scores, \"---Average:\", np.mean(lin_scores))  # R2\n",
    "print()\n",
    "print(\"Ridge CV R2:\\n\")\n",
    "print(ridge_scores, \"---Average:\", np.mean(ridge_scores))  # R2\n",
    "print()\n",
    "print(\"Lasso CV R2:\\n\")\n",
    "print(lasso_scores, \"---Average:\", np.mean(lasso_scores))  # R2\n",
    "print()\n",
    "print(\"Elastic Net CV R2:\\n\")\n",
    "print(en_scores, \"---Average:\", np.mean(en_scores))  # R2"
   ]
  },
  {
   "cell_type": "code",
   "execution_count": null,
   "metadata": {
    "collapsed": true
   },
   "outputs": [],
   "source": []
  }
 ],
 "metadata": {
  "kernelspec": {
   "display_name": "Python 3",
   "language": "python",
   "name": "python3"
  },
  "language_info": {
   "codemirror_mode": {
    "name": "ipython",
    "version": 3
   },
   "file_extension": ".py",
   "mimetype": "text/x-python",
   "name": "python",
   "nbconvert_exporter": "python",
   "pygments_lexer": "ipython3",
   "version": "3.4.3"
  }
 },
 "nbformat": 4,
 "nbformat_minor": 0
}
