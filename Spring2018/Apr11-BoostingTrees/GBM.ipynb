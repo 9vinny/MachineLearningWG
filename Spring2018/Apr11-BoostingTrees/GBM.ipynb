{
 "cells": [
  {
   "cell_type": "markdown",
   "metadata": {},
   "source": [
    "# Gradient Boosting"
   ]
  },
  {
   "cell_type": "markdown",
   "metadata": {},
   "source": [
    "### Basic single model:\n",
    "Adapted from [here](http://scikit-learn.org/stable/auto_examples/ensemble/plot_gradient_boosting_regression.html)."
   ]
  },
  {
   "cell_type": "code",
   "execution_count": 1,
   "metadata": {},
   "outputs": [],
   "source": [
    "from sklearn.datasets import load_boston\n",
    "import numpy as np\n",
    "import matplotlib.pyplot as plt\n",
    "from sklearn import ensemble, preprocessing\n",
    "from sklearn.utils import shuffle\n",
    "from sklearn.metrics import mean_squared_error\n",
    "from sklearn.model_selection import train_test_split\n",
    "from sklearn.ensemble import GradientBoostingRegressor"
   ]
  },
  {
   "cell_type": "code",
   "execution_count": 2,
   "metadata": {},
   "outputs": [],
   "source": [
    "np.random.seed(1)"
   ]
  },
  {
   "cell_type": "code",
   "execution_count": 3,
   "metadata": {},
   "outputs": [],
   "source": [
    "boston = load_boston()\n",
    "\n",
    "X, y = shuffle(boston.data, boston.target, random_state=1)\n",
    "X_train, X_test, y_train, y_test = train_test_split(X, y, train_size=0.8, test_size=0.2)\n",
    "\n",
    "scaler = preprocessing.StandardScaler().fit(X_train)\n",
    "X_train = scaler.transform(X_train)\n",
    "X_test = scaler.transform(X_test)"
   ]
  },
  {
   "cell_type": "code",
   "execution_count": 4,
   "metadata": {
    "scrolled": true
   },
   "outputs": [
    {
     "name": "stdout",
     "output_type": "stream",
     "text": [
      "MSE: 8.8408\n",
      "0.979771000104\n"
     ]
    }
   ],
   "source": [
    "params = {'n_estimators': 500, 'max_depth': 4, 'min_samples_split': 2,\n",
    "          'learning_rate': 0.01, 'loss': 'ls'}\n",
    "\n",
    "gb_r = ensemble.GradientBoostingRegressor(**params)\n",
    "\n",
    "gb_r.fit(X_train, y_train)\n",
    "mse = mean_squared_error(y_test, gb_r.predict(X_test))\n",
    "print(\"MSE: %.4f\" % mse)\n",
    "print(gb_r.score(X_train, y_train))"
   ]
  },
  {
   "cell_type": "code",
   "execution_count": 5,
   "metadata": {},
   "outputs": [
    {
     "data": {
      "text/plain": [
       "Text(0,0.5,'Deviance')"
      ]
     },
     "execution_count": 5,
     "metadata": {},
     "output_type": "execute_result"
    },
    {
     "data": {
      "image/png": "[encoded data removed]",
      "text/plain": [
       "<matplotlib.figure.Figure at 0x1066a8ac8>"
      ]
     },
     "metadata": {},
     "output_type": "display_data"
    }
   ],
   "source": [
    "% matplotlib inline\n",
    "\n",
    "# compute test set deviance\n",
    "test_score = np.zeros((params['n_estimators'],), dtype=np.float64)\n",
    "\n",
    "for i, y_pred in enumerate(gb_r.staged_predict(X_test)):\n",
    "    test_score[i] = gb_r.loss_(y_test, y_pred)\n",
    "\n",
    "plt.figure(figsize=(12, 6))\n",
    "plt.subplot(1, 2, 1)\n",
    "plt.title('Deviance')\n",
    "plt.plot(np.arange(params['n_estimators']) + 1, gb_r.train_score_, 'b-',\n",
    "         label='Training Set Deviance')\n",
    "plt.plot(np.arange(params['n_estimators']) + 1, test_score, 'r-',\n",
    "         label='Test Set Deviance')\n",
    "plt.legend(loc='upper right')\n",
    "plt.xlabel('Boosting Iterations')\n",
    "plt.ylabel('Deviance')"
   ]
  },
  {
   "cell_type": "code",
   "execution_count": 6,
   "metadata": {},
   "outputs": [
    {
     "data": {
      "image/png": "[encoded data removed]",
      "text/plain": [
       "<matplotlib.figure.Figure at 0x1129a0b38>"
      ]
     },
     "metadata": {},
     "output_type": "display_data"
    }
   ],
   "source": [
    "feature_importance = gb_r.feature_importances_\n",
    "# make importances relative to max importance\n",
    "feature_importance = 100.0 * (feature_importance / feature_importance.max())\n",
    "sorted_idx = np.argsort(feature_importance)\n",
    "pos = np.arange(sorted_idx.shape[0]) + .5\n",
    "plt.subplot(1, 2, 2)\n",
    "plt.barh(pos, feature_importance[sorted_idx], align='center')\n",
    "plt.yticks(pos, boston.feature_names[sorted_idx])\n",
    "plt.xlabel('Relative Importance')\n",
    "plt.title('Variable Importance')\n",
    "plt.show()"
   ]
  },
  {
   "cell_type": "markdown",
   "metadata": {},
   "source": [
    "## Grid search:"
   ]
  },
  {
   "cell_type": "code",
   "execution_count": 7,
   "metadata": {},
   "outputs": [
    {
     "data": {
      "text/plain": [
       "GridSearchCV(cv=None, error_score='raise',\n",
       "       estimator=GradientBoostingRegressor(alpha=0.9, criterion='friedman_mse', init=None,\n",
       "             learning_rate=0.1, loss='ls', max_depth=3, max_features=None,\n",
       "             max_leaf_nodes=None, min_impurity_decrease=0.0,\n",
       "             min_impurity_split=None, min_samples_leaf=1,\n",
       "             min_samples_split=2, min_weight_fraction_leaf=0.0,\n",
       "             n_estimators=100, presort='auto', random_state=None,\n",
       "             subsample=1.0, verbose=0, warm_start=False),\n",
       "       fit_params=None, iid=True, n_jobs=1,\n",
       "       param_grid={'n_estimators': range(450, 551, 50), 'max_depth': range(1, 12, 5), 'min_samples_split': [2], 'learning_rate': array([ 0.01,  0.11,  0.21]), 'loss': ['ls']},\n",
       "       pre_dispatch='2*n_jobs', refit=True, return_train_score=True,\n",
       "       scoring=None, verbose=0)"
      ]
     },
     "execution_count": 7,
     "metadata": {},
     "output_type": "execute_result"
    }
   ],
   "source": [
    "from sklearn.model_selection import GridSearchCV\n",
    "\n",
    "param_grid = {'n_estimators': range(450, 551, 50),\n",
    "              'max_depth': range(1, 12, 5),\n",
    "              'min_samples_split': [2],\n",
    "              'learning_rate': np.arange(0.01, .22, .1),\n",
    "              'loss': ['ls']}\n",
    "\n",
    "gb_r = GridSearchCV(GradientBoostingRegressor(), param_grid)\n",
    "gb_r.fit(X_train, y_train)"
   ]
  },
  {
   "cell_type": "code",
   "execution_count": 8,
   "metadata": {},
   "outputs": [
    {
     "data": {
      "text/plain": [
       "['mean_fit_time',\n",
       " 'mean_score_time',\n",
       " 'mean_test_score',\n",
       " 'mean_train_score',\n",
       " 'param_learning_rate',\n",
       " 'param_loss',\n",
       " 'param_max_depth',\n",
       " 'param_min_samples_split',\n",
       " 'param_n_estimators',\n",
       " 'params',\n",
       " 'rank_test_score',\n",
       " 'split0_test_score',\n",
       " 'split0_train_score',\n",
       " 'split1_test_score',\n",
       " 'split1_train_score',\n",
       " 'split2_test_score',\n",
       " 'split2_train_score',\n",
       " 'std_fit_time',\n",
       " 'std_score_time',\n",
       " 'std_test_score',\n",
       " 'std_train_score']"
      ]
     },
     "execution_count": 8,
     "metadata": {},
     "output_type": "execute_result"
    }
   ],
   "source": [
    "sorted(gb_r.cv_results_.keys())"
   ]
  },
  {
   "cell_type": "code",
   "execution_count": 9,
   "metadata": {},
   "outputs": [
    {
     "data": {
      "text/plain": [
       "array([ 0.73581471,  0.7430921 ,  0.74957144,  0.80313618,  0.80466586,\n",
       "        0.80546611,  0.70886174,  0.70960639,  0.70942906,  0.79692555,\n",
       "        0.79739465,  0.79641072,  0.79860772,  0.79498405,  0.79788524,\n",
       "        0.70765335,  0.70654524,  0.71062402,  0.79007827,  0.79209906,\n",
       "        0.78880634,  0.80810794,  0.80103416,  0.80667362,  0.70186116,\n",
       "        0.70377522,  0.71794213])"
      ]
     },
     "execution_count": 9,
     "metadata": {},
     "output_type": "execute_result"
    }
   ],
   "source": [
    "gb_r.cv_results_[\"mean_test_score\"]"
   ]
  },
  {
   "cell_type": "code",
   "execution_count": 10,
   "metadata": {},
   "outputs": [],
   "source": [
    "best_index = np.argmax(gb_r.cv_results_[\"mean_test_score\"])"
   ]
  },
  {
   "cell_type": "code",
   "execution_count": 11,
   "metadata": {},
   "outputs": [
    {
     "data": {
      "text/plain": [
       "[{'learning_rate': 0.01,\n",
       "  'loss': 'ls',\n",
       "  'max_depth': 1,\n",
       "  'min_samples_split': 2,\n",
       "  'n_estimators': 450},\n",
       " {'learning_rate': 0.01,\n",
       "  'loss': 'ls',\n",
       "  'max_depth': 1,\n",
       "  'min_samples_split': 2,\n",
       "  'n_estimators': 500},\n",
       " {'learning_rate': 0.01,\n",
       "  'loss': 'ls',\n",
       "  'max_depth': 1,\n",
       "  'min_samples_split': 2,\n",
       "  'n_estimators': 550},\n",
       " {'learning_rate': 0.01,\n",
       "  'loss': 'ls',\n",
       "  'max_depth': 6,\n",
       "  'min_samples_split': 2,\n",
       "  'n_estimators': 450},\n",
       " {'learning_rate': 0.01,\n",
       "  'loss': 'ls',\n",
       "  'max_depth': 6,\n",
       "  'min_samples_split': 2,\n",
       "  'n_estimators': 500},\n",
       " {'learning_rate': 0.01,\n",
       "  'loss': 'ls',\n",
       "  'max_depth': 6,\n",
       "  'min_samples_split': 2,\n",
       "  'n_estimators': 550},\n",
       " {'learning_rate': 0.01,\n",
       "  'loss': 'ls',\n",
       "  'max_depth': 11,\n",
       "  'min_samples_split': 2,\n",
       "  'n_estimators': 450},\n",
       " {'learning_rate': 0.01,\n",
       "  'loss': 'ls',\n",
       "  'max_depth': 11,\n",
       "  'min_samples_split': 2,\n",
       "  'n_estimators': 500},\n",
       " {'learning_rate': 0.01,\n",
       "  'loss': 'ls',\n",
       "  'max_depth': 11,\n",
       "  'min_samples_split': 2,\n",
       "  'n_estimators': 550},\n",
       " {'learning_rate': 0.11,\n",
       "  'loss': 'ls',\n",
       "  'max_depth': 1,\n",
       "  'min_samples_split': 2,\n",
       "  'n_estimators': 450},\n",
       " {'learning_rate': 0.11,\n",
       "  'loss': 'ls',\n",
       "  'max_depth': 1,\n",
       "  'min_samples_split': 2,\n",
       "  'n_estimators': 500},\n",
       " {'learning_rate': 0.11,\n",
       "  'loss': 'ls',\n",
       "  'max_depth': 1,\n",
       "  'min_samples_split': 2,\n",
       "  'n_estimators': 550},\n",
       " {'learning_rate': 0.11,\n",
       "  'loss': 'ls',\n",
       "  'max_depth': 6,\n",
       "  'min_samples_split': 2,\n",
       "  'n_estimators': 450},\n",
       " {'learning_rate': 0.11,\n",
       "  'loss': 'ls',\n",
       "  'max_depth': 6,\n",
       "  'min_samples_split': 2,\n",
       "  'n_estimators': 500},\n",
       " {'learning_rate': 0.11,\n",
       "  'loss': 'ls',\n",
       "  'max_depth': 6,\n",
       "  'min_samples_split': 2,\n",
       "  'n_estimators': 550},\n",
       " {'learning_rate': 0.11,\n",
       "  'loss': 'ls',\n",
       "  'max_depth': 11,\n",
       "  'min_samples_split': 2,\n",
       "  'n_estimators': 450},\n",
       " {'learning_rate': 0.11,\n",
       "  'loss': 'ls',\n",
       "  'max_depth': 11,\n",
       "  'min_samples_split': 2,\n",
       "  'n_estimators': 500},\n",
       " {'learning_rate': 0.11,\n",
       "  'loss': 'ls',\n",
       "  'max_depth': 11,\n",
       "  'min_samples_split': 2,\n",
       "  'n_estimators': 550},\n",
       " {'learning_rate': 0.21000000000000002,\n",
       "  'loss': 'ls',\n",
       "  'max_depth': 1,\n",
       "  'min_samples_split': 2,\n",
       "  'n_estimators': 450},\n",
       " {'learning_rate': 0.21000000000000002,\n",
       "  'loss': 'ls',\n",
       "  'max_depth': 1,\n",
       "  'min_samples_split': 2,\n",
       "  'n_estimators': 500},\n",
       " {'learning_rate': 0.21000000000000002,\n",
       "  'loss': 'ls',\n",
       "  'max_depth': 1,\n",
       "  'min_samples_split': 2,\n",
       "  'n_estimators': 550},\n",
       " {'learning_rate': 0.21000000000000002,\n",
       "  'loss': 'ls',\n",
       "  'max_depth': 6,\n",
       "  'min_samples_split': 2,\n",
       "  'n_estimators': 450},\n",
       " {'learning_rate': 0.21000000000000002,\n",
       "  'loss': 'ls',\n",
       "  'max_depth': 6,\n",
       "  'min_samples_split': 2,\n",
       "  'n_estimators': 500},\n",
       " {'learning_rate': 0.21000000000000002,\n",
       "  'loss': 'ls',\n",
       "  'max_depth': 6,\n",
       "  'min_samples_split': 2,\n",
       "  'n_estimators': 550},\n",
       " {'learning_rate': 0.21000000000000002,\n",
       "  'loss': 'ls',\n",
       "  'max_depth': 11,\n",
       "  'min_samples_split': 2,\n",
       "  'n_estimators': 450},\n",
       " {'learning_rate': 0.21000000000000002,\n",
       "  'loss': 'ls',\n",
       "  'max_depth': 11,\n",
       "  'min_samples_split': 2,\n",
       "  'n_estimators': 500},\n",
       " {'learning_rate': 0.21000000000000002,\n",
       "  'loss': 'ls',\n",
       "  'max_depth': 11,\n",
       "  'min_samples_split': 2,\n",
       "  'n_estimators': 550}]"
      ]
     },
     "execution_count": 11,
     "metadata": {},
     "output_type": "execute_result"
    }
   ],
   "source": [
    "gb_r.cv_results_[\"params\"]"
   ]
  },
  {
   "cell_type": "code",
   "execution_count": 12,
   "metadata": {},
   "outputs": [
    {
     "name": "stdout",
     "output_type": "stream",
     "text": [
      "{'learning_rate': 0.21000000000000002, 'loss': 'ls', 'max_depth': 6, 'min_samples_split': 2, 'n_estimators': 450}\n",
      "\n",
      "0.808107938634\n"
     ]
    }
   ],
   "source": [
    "print(gb_r.cv_results_[\"params\"][best_index])\n",
    "print()\n",
    "print(max(gb_r.cv_results_[\"mean_test_score\"]))"
   ]
  },
  {
   "cell_type": "code",
   "execution_count": 13,
   "metadata": {},
   "outputs": [
    {
     "data": {
      "text/plain": [
       "0.89443602343116779"
      ]
     },
     "execution_count": 13,
     "metadata": {},
     "output_type": "execute_result"
    }
   ],
   "source": [
    "gb_r.score(X_test, \n",
    "           y_test)"
   ]
  },
  {
   "cell_type": "code",
   "execution_count": null,
   "metadata": {},
   "outputs": [],
   "source": []
  }
 ],
 "metadata": {
  "anaconda-cloud": {},
  "kernelspec": {
   "display_name": "Python 3",
   "language": "python",
   "name": "python3"
  },
  "language_info": {
   "codemirror_mode": {
    "name": "ipython",
    "version": 3
   },
   "file_extension": ".py",
   "mimetype": "text/x-python",
   "name": "python",
   "nbconvert_exporter": "python",
   "pygments_lexer": "ipython3",
   "version": "3.6.4"
  }
 },
 "nbformat": 4,
 "nbformat_minor": 1
}
