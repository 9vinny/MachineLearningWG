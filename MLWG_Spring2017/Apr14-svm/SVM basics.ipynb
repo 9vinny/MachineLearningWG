{
 "cells": [
  {
   "cell_type": "code",
   "execution_count": 1,
   "metadata": {
    "collapsed": true
   },
   "outputs": [],
   "source": [
    "%matplotlib inline"
   ]
  },
  {
   "cell_type": "code",
   "execution_count": 3,
   "metadata": {
    "collapsed": true
   },
   "outputs": [],
   "source": [
    "import matplotlib.pyplot as plt\n",
    "import numpy as np"
   ]
  },
  {
   "cell_type": "markdown",
   "metadata": {},
   "source": [
    "# Basics of Support Vector Machines (SVMs)"
   ]
  },
  {
   "cell_type": "markdown",
   "metadata": {},
   "source": [
    "## A Note on Residuals"
   ]
  },
  {
   "cell_type": "markdown",
   "metadata": {},
   "source": [
    "Residuals measure the distance between predicted values and true values, where true values are usually measured data points. (Unfortunately, the term \"residuals\" is also used interchangeably with \"errors\" *sometimes*. Othertimes, they're not interchangeable. :/) There are many ways that residuals can be calculated. Standard regression uses squared errors/residuals: $ (y_{predicted} - y_{true})^2 $. On a graph, the residuals look like this:"
   ]
  },
  {
   "cell_type": "code",
   "execution_count": 41,
   "metadata": {
    "collapsed": false
   },
   "outputs": [],
   "source": [
    "x_line = np.arange(7)\n",
    "y_line = np.arange(7)\n",
    "x = np.arange(1,6)\n",
    "y = [.5, 2.6, 3.9, 3.55, 5.4]\n",
    "x_resid = np.array([[1,1],[2,2],[3,3],[4,4],[5,5]])\n",
    "resids = np.array([list(y_line[1:6]), y])"
   ]
  },
  {
   "cell_type": "code",
   "execution_count": 40,
   "metadata": {
    "collapsed": false
   },
   "outputs": [
    {
     "data": {
      "text/plain": [
       "[<matplotlib.lines.Line2D at 0x107286f98>,\n",
       " <matplotlib.lines.Line2D at 0x10728d198>,\n",
       " <matplotlib.lines.Line2D at 0x10728db70>,\n",
       " <matplotlib.lines.Line2D at 0x107402320>,\n",
       " <matplotlib.lines.Line2D at 0x107402550>,\n",
       " <matplotlib.lines.Line2D at 0x107402748>,\n",
       " <matplotlib.lines.Line2D at 0x107402940>]"
      ]
     },
     "execution_count": 40,
     "metadata": {},
     "output_type": "execute_result"
    },
    {
     "data": {
      "image/png": "[encoded data removed]",
      "text/plain": [
       "<matplotlib.figure.Figure at 0x107173518>"
      ]
     },
     "metadata": {},
     "output_type": "display_data"
    }
   ],
   "source": [
    "plt.plot(x_line, y_line, '-', x, y, 'o', x_resid.T, resids, '-r')"
   ]
  },
  {
   "cell_type": "markdown",
   "metadata": {},
   "source": [
    "For support vector machines, the residual is the vector difference between the true value vector and the orthogonal projection of the true value onto the predicted function (a vector that connects the predicted and true values which is also orthogonal to the predicted function).\n",
    "<img src=\"proj.png\">"
   ]
  },
  {
   "cell_type": "markdown",
   "metadata": {},
   "source": [
    "Mathematically, if the predicted function is spanned by $\\vec{s}$, and the true value is represented by $\\vec{v}$, then the projection of $\\vec{v}$ onto the line is:\n",
    "$$ proj_{\\vec{s}} (\\vec{v}) = \\vec{c}_{\\vec{p}}\\vec{s} = \\frac{\\vec{v} \\cdot \\vec{s}} {\\vec{s} \\cdot \\vec{s}} \\vec{s} $$\n",
    "and the residual is \n",
    "$$ \\vec{v} - \\vec{c}_{\\vec{p}}\\vec{s} $$\n",
    "Here's what all this looks like visually:\n",
    "<img src=\"https://upload.wikimedia.org/wikipedia/commons/1/17/Linalg_projection_4.png\" width=\"30%\" height=\"30%\">"
   ]
  },
  {
   "cell_type": "markdown",
   "metadata": {},
   "source": [
    "## Classification Problem"
   ]
  },
  {
   "cell_type": "markdown",
   "metadata": {},
   "source": [
    "Say you have two classes that can be mapped in 2D. You want to create a boundary that separates the two classes. So how do you choose your boundary? Well, if we want an accurate classifier, it makes sense that we should maximize the distance between the classes. In other words, we need a boundary that maximizes the distance between the points closest to it.\n",
    "<img src=\"https://upload.wikimedia.org/wikipedia/commons/2/2a/Svm_max_sep_hyperplane_with_margin.png\" width=\"40%\" height=\"40%\">"
   ]
  },
  {
   "cell_type": "markdown",
   "metadata": {},
   "source": [
    "$\\vec{w}$ is the normal (orthogonal) vector of the line. It's used to normalize the margin lines (the dotted lines). That means the actual distance between the margin lines is $\\frac{2}{\\lVert\\vec{w}\\rVert}$. So, maximizing the distance is the same as minimizing $\\lVert\\vec{w}\\rVert$. But, we also want to make sure none of the points are in this margin layer. If we represent the $y_i$ points as +1 and -1, then our constraint can be written as $y_i(\\vec{w}\\cdot\\vec{x} - b) > 1$. This type of problem has a known solution. Yay!"
   ]
  },
  {
   "cell_type": "markdown",
   "metadata": {},
   "source": [
    "**Note:** This example is 2D data separated by a 1D linear boundary, but this works for any nD data that you want to separate with an (n-1)D linear boundary."
   ]
  },
  {
   "cell_type": "markdown",
   "metadata": {},
   "source": [
    "## Wait! What if I need a non-linear boundary?"
   ]
  },
  {
   "cell_type": "markdown",
   "metadata": {},
   "source": [
    "Don't need one."
   ]
  },
  {
   "cell_type": "markdown",
   "metadata": {},
   "source": [
    "This is where kernels come in. Kernels are transforms that you apply to your data so that the transformed data can be separated by a linear boundary. Once you have the linear boundary, you untransform it to get your non-linear boundary for the original data.\n",
    "<img src=\"https://media.licdn.com/mpr/mpr/p/1/005/097/185/267ca63.jpg\">"
   ]
  },
  {
   "cell_type": "markdown",
   "metadata": {},
   "source": [
    "**Note:** Sometimes, kernels will actually *increase* the dimension of your data. This is obviously going to be computationally expensive, so SVM is often a last resort."
   ]
  },
  {
   "cell_type": "markdown",
   "metadata": {},
   "source": [
    "## What's a slack variable?"
   ]
  },
  {
   "cell_type": "markdown",
   "metadata": {},
   "source": [
    "The constraint we defined above states that absolutely NO data points can be in the margin layer. This is called a hard margin. But real life is messy, so sometimes you need to cut the algorithm some slack and let some data points into the margin layer. This is called a soft margin. These data points get penalized depending on how far from the margin they are, very much like for regularization. Also like with regularization, there is a parameter that balances maximizing the margin with keeping points out of the margin layer. This is the slack variable."
   ]
  },
  {
   "cell_type": "markdown",
   "metadata": {},
   "source": [
    "The math involved in this is complicated and out of scope."
   ]
  },
  {
   "cell_type": "markdown",
   "metadata": {},
   "source": [
    "## Regression Problem"
   ]
  },
  {
   "cell_type": "markdown",
   "metadata": {},
   "source": [
    "SVMs can also be used for regression, but the problem is framed in a very specific way. First, the margin constraint is reversed: In classification, you care about points on the margin and within it. In regression, you care about points outside the margin. The problem is to find the flattest boundary that minimizes the squared residuals to the margin line. Points within the margin are ignored.\n",
    "<img src=\"http://kernelsvm.tripod.com/index_files/image006.jpg\">"
   ]
  },
  {
   "cell_type": "markdown",
   "metadata": {},
   "source": [
    "Just to complicate things even more, they thrown in an $\\epsilon$ parameter for the width instead of normalizing. Often, this problem is not solvable without adding in a slack variable."
   ]
  },
  {
   "cell_type": "markdown",
   "metadata": {},
   "source": [
    "The math here is even more complicated and definitely out of scope."
   ]
  }
 ],
 "metadata": {
  "kernelspec": {
   "display_name": "Python [Root]",
   "language": "python",
   "name": "Python [Root]"
  },
  "language_info": {
   "codemirror_mode": {
    "name": "ipython",
    "version": 3
   },
   "file_extension": ".py",
   "mimetype": "text/x-python",
   "name": "python",
   "nbconvert_exporter": "python",
   "pygments_lexer": "ipython3",
   "version": "3.5.2"
  }
 },
 "nbformat": 4,
 "nbformat_minor": 0
}
