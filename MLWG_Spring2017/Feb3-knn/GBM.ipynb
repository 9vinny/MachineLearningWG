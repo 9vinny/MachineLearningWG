{
 "cells": [
  {
   "cell_type": "markdown",
   "metadata": {},
   "source": [
    "# KNN"
   ]
  },
  {
   "cell_type": "code",
   "execution_count": 1,
   "metadata": {
    "collapsed": true
   },
   "outputs": [],
   "source": [
    "from sklearn.datasets import load_boston\n",
    "import numpy as np\n",
    "import matplotlib.pyplot as plt\n",
    "from sklearn.utils import shuffle\n",
    "from sklearn.metrics import mean_squared_error\n",
    "from sklearn.model_selection import train_test_split\n",
    "from sklearn import neighbors"
   ]
  },
  {
   "cell_type": "markdown",
   "metadata": {},
   "source": [
    "## Regression"
   ]
  },
  {
   "cell_type": "markdown",
   "metadata": {},
   "source": [
    "### Basic single model:"
   ]
  },
  {
   "cell_type": "code",
   "execution_count": 2,
   "metadata": {
    "collapsed": false
   },
   "outputs": [],
   "source": [
    "boston = load_boston()\n",
    "\n",
    "X, y = shuffle(boston.data, boston.target, random_state=1)\n",
    "X_train, X_test, y_train, y_test = train_test_split(X, y, train_size=0.8, test_size=0.2)"
   ]
  },
  {
   "cell_type": "code",
   "execution_count": 3,
   "metadata": {
    "collapsed": false
   },
   "outputs": [
    {
     "name": "stdout",
     "output_type": "stream",
     "text": [
      "k: 20\n"
     ]
    }
   ],
   "source": [
    "k = int(len(X_train) ** (1/2))\n",
    "print(\"k: \" + str(k))"
   ]
  },
  {
   "cell_type": "code",
   "execution_count": 4,
   "metadata": {
    "collapsed": false
   },
   "outputs": [
    {
     "name": "stdout",
     "output_type": "stream",
     "text": [
      "MSE: 48.4191\n"
     ]
    }
   ],
   "source": [
    "params = {'n_neighbors': k, 'weights': \"uniform\"}\n",
    "\n",
    "kkn_r = neighbors.KNeighborsRegressor(**params)\n",
    "\n",
    "kkn_r.fit(X_train, y_train)\n",
    "mse = mean_squared_error(y_test, kkn_r.predict(X_test))\n",
    "print(\"MSE: %.4f\" % mse)"
   ]
  },
  {
   "cell_type": "markdown",
   "metadata": {},
   "source": [
    "## Grid search:"
   ]
  },
  {
   "cell_type": "code",
   "execution_count": 5,
   "metadata": {
    "collapsed": false
   },
   "outputs": [
    {
     "data": {
      "text/plain": [
       "GridSearchCV(cv=None, error_score='raise',\n",
       "       estimator=KNeighborsRegressor(algorithm='auto', leaf_size=30, metric='minkowski',\n",
       "          metric_params=None, n_jobs=1, n_neighbors=5, p=2,\n",
       "          weights='uniform'),\n",
       "       fit_params={}, iid=True, n_jobs=1,\n",
       "       param_grid={'weights': ['uniform'], 'n_neighbors': array([10, 11, 12, 13, 14, 15, 16, 17, 18, 19, 20, 21, 22, 23, 24, 25, 26,\n",
       "       27, 28, 29])},\n",
       "       pre_dispatch='2*n_jobs', refit=True, return_train_score=True,\n",
       "       scoring=None, verbose=0)"
      ]
     },
     "execution_count": 5,
     "metadata": {},
     "output_type": "execute_result"
    }
   ],
   "source": [
    "from sklearn.model_selection import GridSearchCV\n",
    "\n",
    "param_grid = {'n_neighbors': np.arange(int(k-(k/2)), int(k+(k/2)), 1),\n",
    "              'weights': [\"uniform\"]}\n",
    "\n",
    "knn_r = GridSearchCV(neighbors.KNeighborsRegressor(), param_grid)\n",
    "knn_r.fit(X_train, y_train)"
   ]
  },
  {
   "cell_type": "code",
   "execution_count": 6,
   "metadata": {
    "collapsed": false
   },
   "outputs": [
    {
     "data": {
      "text/plain": [
       "['mean_fit_time',\n",
       " 'mean_score_time',\n",
       " 'mean_test_score',\n",
       " 'mean_train_score',\n",
       " 'param_n_neighbors',\n",
       " 'param_weights',\n",
       " 'params',\n",
       " 'rank_test_score',\n",
       " 'split0_test_score',\n",
       " 'split0_train_score',\n",
       " 'split1_test_score',\n",
       " 'split1_train_score',\n",
       " 'split2_test_score',\n",
       " 'split2_train_score',\n",
       " 'std_fit_time',\n",
       " 'std_score_time',\n",
       " 'std_test_score',\n",
       " 'std_train_score']"
      ]
     },
     "execution_count": 6,
     "metadata": {},
     "output_type": "execute_result"
    }
   ],
   "source": [
    "sorted(knn_r.cv_results_.keys())"
   ]
  },
  {
   "cell_type": "code",
   "execution_count": 7,
   "metadata": {
    "collapsed": false
   },
   "outputs": [
    {
     "data": {
      "text/plain": [
       "({'n_neighbors': 10, 'weights': 'uniform'},\n",
       " {'n_neighbors': 11, 'weights': 'uniform'},\n",
       " {'n_neighbors': 12, 'weights': 'uniform'},\n",
       " {'n_neighbors': 13, 'weights': 'uniform'},\n",
       " {'n_neighbors': 14, 'weights': 'uniform'},\n",
       " {'n_neighbors': 15, 'weights': 'uniform'},\n",
       " {'n_neighbors': 16, 'weights': 'uniform'},\n",
       " {'n_neighbors': 17, 'weights': 'uniform'},\n",
       " {'n_neighbors': 18, 'weights': 'uniform'},\n",
       " {'n_neighbors': 19, 'weights': 'uniform'},\n",
       " {'n_neighbors': 20, 'weights': 'uniform'},\n",
       " {'n_neighbors': 21, 'weights': 'uniform'},\n",
       " {'n_neighbors': 22, 'weights': 'uniform'},\n",
       " {'n_neighbors': 23, 'weights': 'uniform'},\n",
       " {'n_neighbors': 24, 'weights': 'uniform'},\n",
       " {'n_neighbors': 25, 'weights': 'uniform'},\n",
       " {'n_neighbors': 26, 'weights': 'uniform'},\n",
       " {'n_neighbors': 27, 'weights': 'uniform'},\n",
       " {'n_neighbors': 28, 'weights': 'uniform'},\n",
       " {'n_neighbors': 29, 'weights': 'uniform'})"
      ]
     },
     "execution_count": 7,
     "metadata": {},
     "output_type": "execute_result"
    }
   ],
   "source": [
    "knn_r.cv_results_[\"params\"]"
   ]
  },
  {
   "cell_type": "code",
   "execution_count": 8,
   "metadata": {
    "collapsed": false
   },
   "outputs": [
    {
     "data": {
      "text/plain": [
       "array([ 0.35712023,  0.34865975,  0.32869747,  0.32207005,  0.30487975,\n",
       "        0.30378971,  0.30587992,  0.29804225,  0.29315995,  0.29141645,\n",
       "        0.29140695,  0.29543737,  0.29467113,  0.2888999 ,  0.28543624,\n",
       "        0.28052632,  0.27805718,  0.27338327,  0.27181168,  0.2717212 ])"
      ]
     },
     "execution_count": 8,
     "metadata": {},
     "output_type": "execute_result"
    }
   ],
   "source": [
    "knn_r.cv_results_[\"mean_test_score\"]"
   ]
  },
  {
   "cell_type": "code",
   "execution_count": 9,
   "metadata": {
    "collapsed": false
   },
   "outputs": [
    {
     "name": "stdout",
     "output_type": "stream",
     "text": [
      "{'weights': 'uniform', 'n_neighbors': 10}\n",
      "\n",
      "0.357120233397\n"
     ]
    }
   ],
   "source": [
    "best_index = np.argmax(knn_r.cv_results_[\"mean_test_score\"])\n",
    "\n",
    "print(knn_r.cv_results_[\"params\"][best_index])\n",
    "print()\n",
    "print(max(knn_r.cv_results_[\"mean_test_score\"]))"
   ]
  },
  {
   "cell_type": "markdown",
   "metadata": {},
   "source": [
    "# Classification"
   ]
  },
  {
   "cell_type": "code",
   "execution_count": 10,
   "metadata": {
    "collapsed": false
   },
   "outputs": [
    {
     "data": {
      "text/plain": [
       "(240, 179, 87)"
      ]
     },
     "execution_count": 10,
     "metadata": {},
     "output_type": "execute_result"
    }
   ],
   "source": [
    "new_boston = {\"data\": [],\n",
    "              \"target\": []}\n",
    "\n",
    "for i, arr in enumerate(boston[\"data\"]):\n",
    "    \n",
    "    new_arr = arr\n",
    "    \n",
    "    if arr[7] < 3:\n",
    "        new_boston[\"target\"].append(\"short\")\n",
    "    elif arr[7] < 6:\n",
    "        new_boston[\"target\"].append(\"medium\")\n",
    "    else:\n",
    "        new_boston[\"target\"].append(\"long\")\n",
    "        \n",
    "    new_arr = np.delete(new_arr, 7)\n",
    "    new_arr = np.append(new_arr, boston[\"target\"][i])\n",
    "\n",
    "    new_boston[\"data\"].append(new_arr)\n",
    "    \n",
    "new_boston[\"target\"].count(\"short\"), new_boston[\"target\"].count(\"medium\"), new_boston[\"target\"].count(\"long\")"
   ]
  },
  {
   "cell_type": "code",
   "execution_count": 11,
   "metadata": {
    "collapsed": true
   },
   "outputs": [],
   "source": [
    "X, y = shuffle(new_boston[\"data\"], new_boston[\"target\"], random_state=1)\n",
    "X_train, X_test, y_train, y_test = train_test_split(X, y, train_size=0.8, test_size=0.2)"
   ]
  },
  {
   "cell_type": "code",
   "execution_count": 12,
   "metadata": {
    "collapsed": false
   },
   "outputs": [
    {
     "data": {
      "text/plain": [
       "GridSearchCV(cv=None, error_score='raise',\n",
       "       estimator=KNeighborsClassifier(algorithm='auto', leaf_size=30, metric='minkowski',\n",
       "           metric_params=None, n_jobs=1, n_neighbors=5, p=2,\n",
       "           weights='uniform'),\n",
       "       fit_params={}, iid=True, n_jobs=1,\n",
       "       param_grid={'weights': ['uniform'], 'n_neighbors': array([10, 11, 12, 13, 14, 15, 16, 17, 18, 19, 20, 21, 22, 23, 24, 25, 26,\n",
       "       27, 28, 29])},\n",
       "       pre_dispatch='2*n_jobs', refit=True, return_train_score=True,\n",
       "       scoring=None, verbose=0)"
      ]
     },
     "execution_count": 12,
     "metadata": {},
     "output_type": "execute_result"
    }
   ],
   "source": [
    "param_grid = {'n_neighbors': np.arange(int(k-(k/2)), int(k+(k/2)), 1),\n",
    "              'weights': [\"uniform\"]}\n",
    "\n",
    "knn_c = GridSearchCV(neighbors.KNeighborsClassifier(), param_grid)\n",
    "knn_c.fit(X_train, y_train)"
   ]
  },
  {
   "cell_type": "code",
   "execution_count": 13,
   "metadata": {
    "collapsed": false
   },
   "outputs": [
    {
     "data": {
      "text/plain": [
       "['mean_fit_time',\n",
       " 'mean_score_time',\n",
       " 'mean_test_score',\n",
       " 'mean_train_score',\n",
       " 'param_n_neighbors',\n",
       " 'param_weights',\n",
       " 'params',\n",
       " 'rank_test_score',\n",
       " 'split0_test_score',\n",
       " 'split0_train_score',\n",
       " 'split1_test_score',\n",
       " 'split1_train_score',\n",
       " 'split2_test_score',\n",
       " 'split2_train_score',\n",
       " 'std_fit_time',\n",
       " 'std_score_time',\n",
       " 'std_test_score',\n",
       " 'std_train_score']"
      ]
     },
     "execution_count": 13,
     "metadata": {},
     "output_type": "execute_result"
    }
   ],
   "source": [
    "sorted(knn_c.cv_results_.keys())"
   ]
  },
  {
   "cell_type": "code",
   "execution_count": 14,
   "metadata": {
    "collapsed": false
   },
   "outputs": [
    {
     "data": {
      "text/plain": [
       "({'n_neighbors': 10, 'weights': 'uniform'},\n",
       " {'n_neighbors': 11, 'weights': 'uniform'},\n",
       " {'n_neighbors': 12, 'weights': 'uniform'},\n",
       " {'n_neighbors': 13, 'weights': 'uniform'},\n",
       " {'n_neighbors': 14, 'weights': 'uniform'},\n",
       " {'n_neighbors': 15, 'weights': 'uniform'},\n",
       " {'n_neighbors': 16, 'weights': 'uniform'},\n",
       " {'n_neighbors': 17, 'weights': 'uniform'},\n",
       " {'n_neighbors': 18, 'weights': 'uniform'},\n",
       " {'n_neighbors': 19, 'weights': 'uniform'},\n",
       " {'n_neighbors': 20, 'weights': 'uniform'},\n",
       " {'n_neighbors': 21, 'weights': 'uniform'},\n",
       " {'n_neighbors': 22, 'weights': 'uniform'},\n",
       " {'n_neighbors': 23, 'weights': 'uniform'},\n",
       " {'n_neighbors': 24, 'weights': 'uniform'},\n",
       " {'n_neighbors': 25, 'weights': 'uniform'},\n",
       " {'n_neighbors': 26, 'weights': 'uniform'},\n",
       " {'n_neighbors': 27, 'weights': 'uniform'},\n",
       " {'n_neighbors': 28, 'weights': 'uniform'},\n",
       " {'n_neighbors': 29, 'weights': 'uniform'})"
      ]
     },
     "execution_count": 14,
     "metadata": {},
     "output_type": "execute_result"
    }
   ],
   "source": [
    "knn_c.cv_results_[\"params\"]"
   ]
  },
  {
   "cell_type": "code",
   "execution_count": 15,
   "metadata": {
    "collapsed": false
   },
   "outputs": [
    {
     "data": {
      "text/plain": [
       "array([ 0.81188119,  0.78960396,  0.79950495,  0.78960396,  0.78465347,\n",
       "        0.78712871,  0.7970297 ,  0.79950495,  0.7970297 ,  0.78960396,\n",
       "        0.78960396,  0.78712871,  0.78712871,  0.78465347,  0.79455446,\n",
       "        0.78712871,  0.7970297 ,  0.77227723,  0.77970297,  0.78217822])"
      ]
     },
     "execution_count": 15,
     "metadata": {},
     "output_type": "execute_result"
    }
   ],
   "source": [
    "knn_c.cv_results_[\"mean_test_score\"]"
   ]
  },
  {
   "cell_type": "code",
   "execution_count": 16,
   "metadata": {
    "collapsed": false
   },
   "outputs": [
    {
     "name": "stdout",
     "output_type": "stream",
     "text": [
      "{'weights': 'uniform', 'n_neighbors': 10}\n",
      "\n",
      "0.811881188119\n"
     ]
    }
   ],
   "source": [
    "best_index = np.argmax(knn_c.cv_results_[\"mean_test_score\"])\n",
    "\n",
    "print(knn_c.cv_results_[\"params\"][best_index])\n",
    "print()\n",
    "print(max(knn_c.cv_results_[\"mean_test_score\"]))"
   ]
  },
  {
   "cell_type": "code",
   "execution_count": null,
   "metadata": {
    "collapsed": true
   },
   "outputs": [],
   "source": []
  }
 ],
 "metadata": {
  "anaconda-cloud": {},
  "kernelspec": {
   "display_name": "Python [conda root]",
   "language": "python",
   "name": "conda-root-py"
  },
  "language_info": {
   "codemirror_mode": {
    "name": "ipython",
    "version": 3
   },
   "file_extension": ".py",
   "mimetype": "text/x-python",
   "name": "python",
   "nbconvert_exporter": "python",
   "pygments_lexer": "ipython3",
   "version": "3.5.2"
  }
 },
 "nbformat": 4,
 "nbformat_minor": 1
}
